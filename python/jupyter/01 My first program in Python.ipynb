{
 "cells": [
  {
   "cell_type": "markdown",
   "metadata": {},
   "source": [
    "# My first program in Python\n",
    "\n",
    "You will learn some basic of programing with python by looking for your birth year in the number pi. \n",
    "\n",
    "At the end of this tutorial you will have an understanding of:\n",
    "* variables\n",
    "* printing\n",
    "* loops\n",
    "* string and integers\n",
    "* lists\n",
    "* comparaison\n",
    "* jupyter"
   ]
  },
  {
   "cell_type": "markdown",
   "metadata": {},
   "source": [
    "Table of content of this tutorial:\n",
    "1. First steps with Jupyter Notebook\n",
    "2. Getting Pi\n",
    "3. Getting your birth year\n",
    "4. \n",
    "...TODO..."
   ]
  },
  {
   "cell_type": "markdown",
   "metadata": {},
   "source": [
    "## First steps with Jupyter Notebook\n",
    "\n",
    "Before learning programming with python, let's have a look at our working environment.\n",
    "\n",
    "This tutorial is using Jupyter Notebook so that you don't have to install anything to start learning python.\n",
    "\n",
    "Jupyter Notebook is an open-source web application that allows you to create and share documents that contain live code, equations, visualizations and narrative text (more info at http://jupyter.org)\n"
   ]
  },
  {
   "cell_type": "markdown",
   "metadata": {},
   "source": [
    "\n",
    "There are differents type of cells. Some are text like the one you are reading and the most interestng one are code and the result of this code execution.\n",
    "\n",
    "The following cell is **code**. Type ``` 1 + 1 ``` inside it and press **Shift** and **Enter** simultanously.\n",
    "***"
   ]
  },
  {
   "cell_type": "code",
   "execution_count": null,
   "metadata": {},
   "outputs": [],
   "source": []
  },
  {
   "cell_type": "markdown",
   "metadata": {},
   "source": [
    "🙌 🎉 You have executed your first statement in Python! 🦄 🌈 👨‍💻 👩‍💻"
   ]
  },
  {
   "cell_type": "markdown",
   "metadata": {},
   "source": [
    "To execute a cell, you have to press **Shift** and **Enter** in the cell or use the **Run** button.\n",
    "\n",
    "On the left of the cell:\n",
    "* `[ ]` indicates that the cell has not been yet executed.\n",
    "* `[*]` indicates that the cell is executing.\n",
    "* `[number]` indicates that the cell has been executed. The number indicate the order of the execution between the different cells"
   ]
  },
  {
   "cell_type": "markdown",
   "metadata": {},
   "source": [
    "Go back to the ```1+1``` cell and re-execute it. The number in the square bracket increase. \n",
    "\n",
    "The result has been recalculated but should stay the same.\n",
    "***"
   ]
  },
  {
   "cell_type": "markdown",
   "metadata": {},
   "source": [
    "When a cell is executed, the notebook takes into account the code typed in the cell and the state that resulted from the previously executed cells."
   ]
  },
  {
   "cell_type": "markdown",
   "metadata": {},
   "source": [
    "You can use the **+** button to create a new cell. By default its a **code** cell but you can change its type to **Markdown** using the drop down list if you want to add your own text in this notebook. \n",
    "\n",
    "Create a new cell, change its type to **markdown**, type ```$c=\\sqrt{a^2 + b^2}$``` in it and press **Shift Enter**."
   ]
  },
  {
   "cell_type": "markdown",
   "metadata": {},
   "source": [
    "***"
   ]
  },
  {
   "cell_type": "markdown",
   "metadata": {},
   "source": [
    "With **markdown** you can really having a usefull displayed text easily. \n",
    "\n",
    "You can found more information on markdown here (https://guides.github.com/features/mastering-markdown/)."
   ]
  },
  {
   "cell_type": "markdown",
   "metadata": {},
   "source": [
    "To finish with these first steps with jupyter notebook, you can download your notebook on your laptop so that you can reuse it later by uploading it in another jupyter notebook instance.\n",
    "* You can **Download** your notebook from the **File** menu in the web page. Use **Notebook(*.ipynb)** format.\n",
    "* Use **Open...** menu in the **File** menu to open the jupyter notebook home and use the **upload** button to load your notebook.\n",
    "* From the jupyter notebook home you can use **New** to create a new blank notebook\n",
    "***"
   ]
  },
  {
   "cell_type": "markdown",
   "metadata": {},
   "source": [
    "Now that you have learned how to use this environment, let's start with programming in python! "
   ]
  },
  {
   "cell_type": "markdown",
   "metadata": {},
   "source": [
    "# Getting Pi\n",
    "\n",
    "Our first step is to work with Pi. We won't type Pi each time we need it because we programmers are lazy. We will use what we call a **variable**. \n",
    "\n",
    "A **variable** has a name. A value can be assign to it and when the name is use in the code it will be understood as its value."
   ]
  },
  {
   "cell_type": "markdown",
   "metadata": {},
   "source": [
    "In Python to assign a value to a **variable** we use `=` as in the following example:"
   ]
  },
  {
   "cell_type": "code",
   "execution_count": null,
   "metadata": {},
   "outputs": [],
   "source": [
    "my_variable = 4"
   ]
  },
  {
   "cell_type": "markdown",
   "metadata": {},
   "source": [
    "***\n",
    "You can now reuse `my_variable` in another part of your code as if it was the value."
   ]
  },
  {
   "cell_type": "code",
   "execution_count": null,
   "metadata": {},
   "outputs": [],
   "source": [
    "my_variable + 1"
   ]
  },
  {
   "cell_type": "markdown",
   "metadata": {},
   "source": [
    "***\n",
    "You can change the value contained inside the **variable** whenever you want reassigning another value."
   ]
  },
  {
   "cell_type": "code",
   "execution_count": null,
   "metadata": {},
   "outputs": [],
   "source": [
    "my_variable = 42"
   ]
  },
  {
   "cell_type": "markdown",
   "metadata": {},
   "source": [
    "***\n",
    "A **comment** is some text inside code that won't be interpreted as code.\n",
    "In Python when a line start with **#** it is not interpreted as code and it is used to give usefull information to the human reading the code."
   ]
  },
  {
   "cell_type": "code",
   "execution_count": null,
   "metadata": {},
   "outputs": [],
   "source": [
    "# This line is a comment\n",
    "# This line too!\n",
    "# There are not interpreted as code\n",
    "# and are used to give usefull information to the human reading the code."
   ]
  },
  {
   "cell_type": "markdown",
   "metadata": {},
   "source": [
    "Pi won't change inside your code once you assign it a value. In Python when the name of a **variable** is uppercase it is considered a constant value."
   ]
  },
  {
   "cell_type": "code",
   "execution_count": null,
   "metadata": {},
   "outputs": [],
   "source": [
    "PI = 3.14"
   ]
  },
  {
   "cell_type": "markdown",
   "metadata": {},
   "source": [
    "***\n",
    "Let's add 1 to Pi and see what happens."
   ]
  },
  {
   "cell_type": "code",
   "execution_count": null,
   "metadata": {},
   "outputs": [],
   "source": [
    "# type PI + 1 here and press Shit Enter\n"
   ]
  },
  {
   "cell_type": "markdown",
   "metadata": {},
   "source": [
    "***\n",
    "It's not was you were expecting no?\n",
    "In Python, float are internally in binary format with thirty two _0_ and _1_. When python converts the float in decimal format to binary there is a slight error and sometime these errors add up and can be seen.\n",
    "\n",
    "To avoid this limitation, we won't store PI as a float but as a **string**.\n",
    "\n",
    "A **string** is a **list** of characters. In Python code it is delimited by ```'```or ```\"```."
   ]
  },
  {
   "cell_type": "code",
   "execution_count": null,
   "metadata": {},
   "outputs": [],
   "source": [
    "'This is a string'"
   ]
  },
  {
   "cell_type": "code",
   "execution_count": null,
   "metadata": {},
   "outputs": [],
   "source": [
    "\"This too is a string. And there is almost no limit to its size.\""
   ]
  },
  {
   "cell_type": "code",
   "execution_count": null,
   "metadata": {},
   "outputs": [],
   "source": [
    "'A string can contain any characters é è ñ ó ò ^*¨Ç¿?=O'"
   ]
  },
  {
   "cell_type": "code",
   "execution_count": null,
   "metadata": {},
   "outputs": [],
   "source": [
    "\"A double quote delimited string can be used to have a single quote ' in a string ' \""
   ]
  },
  {
   "cell_type": "code",
   "execution_count": null,
   "metadata": {},
   "outputs": [],
   "source": [
    "' and vice-versa \" '"
   ]
  },
  {
   "cell_type": "code",
   "execution_count": null,
   "metadata": {},
   "outputs": [],
   "source": [
    "' or you can protect a character with backslash like this \\' .' "
   ]
  },
  {
   "cell_type": "code",
   "execution_count": null,
   "metadata": {},
   "outputs": [],
   "source": [
    "'''With tripling the delimiter \n",
    "you can have multiline string\n",
    "like this one.'''"
   ]
  },
  {
   "cell_type": "markdown",
   "metadata": {},
   "source": [
    "The output is here not displayed on 3 different lines but you can see a  special character `\\n` that means `newline`. In a different context is might be displayed correctly."
   ]
  },
  {
   "cell_type": "markdown",
   "metadata": {},
   "source": [
    "***\n",
    "Let's go back to Pi. \n",
    "\n",
    "Assign a string with the 100 first digit of Pi to your **variable** `PI`."
   ]
  },
  {
   "cell_type": "code",
   "execution_count": null,
   "metadata": {},
   "outputs": [],
   "source": []
  },
  {
   "cell_type": "markdown",
   "metadata": {},
   "source": [
    "If you don't know them here is a little help. \n",
    "\n",
    "Execute twice the following cell."
   ]
  },
  {
   "cell_type": "code",
   "execution_count": 217,
   "metadata": {},
   "outputs": [],
   "source": [
    "%load 01SupportingFiles/pi.py"
   ]
  },
  {
   "cell_type": "markdown",
   "metadata": {},
   "source": [
    "The `%load` is a jupyter instruction not a Python one.\n",
    "\n",
    "The first execution of the cell has loaded the content of the external file and put it in the cell. \n",
    "\n",
    "The second execution of the cell has executed the new content of this cell.\n",
    "\n",
    "Now you have almost 4000 digits in your PI variable!"
   ]
  },
  {
   "cell_type": "code",
   "execution_count": null,
   "metadata": {
    "scrolled": false
   },
   "outputs": [],
   "source": [
    "#execute me!\n",
    "PI"
   ]
  },
  {
   "cell_type": "markdown",
   "metadata": {},
   "source": [
    "To access the character at the position n in a **string** we use squared brackets `[` and `]`."
   ]
  },
  {
   "cell_type": "code",
   "execution_count": null,
   "metadata": {},
   "outputs": [],
   "source": [
    "#execute me!\n",
    "PI[1]"
   ]
  },
  {
   "cell_type": "markdown",
   "metadata": {},
   "source": [
    "In Python and most progamming languages, the first element of a **list** as 0 for index."
   ]
  },
  {
   "cell_type": "code",
   "execution_count": null,
   "metadata": {},
   "outputs": [],
   "source": [
    "#execute me!\n",
    "PI[0]"
   ]
  },
  {
   "cell_type": "markdown",
   "metadata": {},
   "source": [
    "Before ending this chapter let's play a little bit with strings."
   ]
  },
  {
   "cell_type": "code",
   "execution_count": null,
   "metadata": {},
   "outputs": [],
   "source": [
    "#execute me!\n",
    "1 + PI"
   ]
  },
  {
   "cell_type": "markdown",
   "metadata": {},
   "source": [
    "🙌 🎉 You first exception in Python! 🦄 🌈\n",
    "\n",
    "In programming, error or exception are not bad. They just indicated that the computer do not know what to do. \n",
    "\n",
    "In our case, the message says that it cannot make a `+` between a **int** and a **str**. \n",
    "\n",
    "Python does not know how to add a integer with a string.\n",
    "\n",
    "You have already learned that here PI contains a string or **str**.\n",
    "\n",
    "`1` without delimiters is interpreted by Python as an integer or **int**. \n",
    "\n",
    "Python do not know how to make a `+` between a **int** and a **str**. \n",
    "\n",
    "We have already seen a `+` between 2 **int**."
   ]
  },
  {
   "cell_type": "code",
   "execution_count": null,
   "metadata": {},
   "outputs": [],
   "source": [
    "1 + 42"
   ]
  },
  {
   "cell_type": "markdown",
   "metadata": {},
   "source": [
    "Let's try a `+` between two **str**"
   ]
  },
  {
   "cell_type": "code",
   "execution_count": null,
   "metadata": {},
   "outputs": [],
   "source": [
    "# execute me! \n",
    "'1' + '42'"
   ]
  },
  {
   "cell_type": "markdown",
   "metadata": {},
   "source": [
    "A `+` between 2 **strings** do not add them but concatenate them."
   ]
  },
  {
   "cell_type": "code",
   "execution_count": null,
   "metadata": {},
   "outputs": [],
   "source": [
    "# execute me! \n",
    "'I can ' + 'concatenate ' + 'string in ' + 'Python!'"
   ]
  },
  {
   "cell_type": "markdown",
   "metadata": {},
   "source": [
    "***\n",
    "### Exercise 1\n",
    "\n",
    "Generate the following output: \n",
    "\n",
    "```'The second digit in the decimal part of Pi is 4 !'``` \n",
    "\n",
    "using `+`, `[` and `]`\n"
   ]
  },
  {
   "cell_type": "code",
   "execution_count": null,
   "metadata": {},
   "outputs": [],
   "source": [
    "#your code here"
   ]
  },
  {
   "cell_type": "markdown",
   "metadata": {},
   "source": [
    "***\n",
    "### Solution 1\n",
    "You can found a solution executing the following cell.\n",
    "There is a lot of different way to obtains the same result in Python. If you have the same output as asked your answer is right too!"
   ]
  },
  {
   "cell_type": "code",
   "execution_count": null,
   "metadata": {},
   "outputs": [],
   "source": [
    "%load 01SupportingFiles/Exercise1.py"
   ]
  },
  {
   "cell_type": "markdown",
   "metadata": {},
   "source": [
    "***\n",
    "# Getting the birth year to look for\n",
    "\n",
    "The second step is to get the birth year.\n",
    "\n",
    "For that we will have to use **functions**. \n",
    "\n",
    "A **function** will be called with some parameters and will return some values. Python has a lot of built-in **function**, you can create your own or use the ones defined by others.\n",
    "\n",
    "The parameters are passed after the name of the functions using parenthesis.`function(parameter1, paremeter2)`\n",
    "\n",
    "Let's use some real example of build-in **function**:\n",
    "* `bin`,`hex` and `oct` are **function** that returns the binary ,hexadecimal and octal representation of a integer\n",
    "* `divmod` is a **function** that returns the quotient and remainer of the division of the 2 integers passed as parameters \n",
    "* `len` is a **function** that returns the number of elements in a list.\n",
    "* `min` is a **function** that returns the smallest of the parameters.\n",
    "* `max` is a **function** that returns the biggest of the parameters.\n",
    "* ...\n"
   ]
  },
  {
   "cell_type": "code",
   "execution_count": null,
   "metadata": {},
   "outputs": [],
   "source": [
    "bin(42)"
   ]
  },
  {
   "cell_type": "code",
   "execution_count": null,
   "metadata": {},
   "outputs": [],
   "source": [
    "hex(42)"
   ]
  },
  {
   "cell_type": "code",
   "execution_count": null,
   "metadata": {},
   "outputs": [],
   "source": [
    "oct(42)"
   ]
  },
  {
   "cell_type": "code",
   "execution_count": null,
   "metadata": {},
   "outputs": [],
   "source": [
    "divmod(356,42)"
   ]
  },
  {
   "cell_type": "code",
   "execution_count": null,
   "metadata": {},
   "outputs": [],
   "source": [
    "len(PI)"
   ]
  },
  {
   "cell_type": "code",
   "execution_count": null,
   "metadata": {},
   "outputs": [],
   "source": [
    "min(1,2,3,-42,5,6)"
   ]
  },
  {
   "cell_type": "code",
   "execution_count": null,
   "metadata": {},
   "outputs": [],
   "source": [
    "max('codebar','is','great')"
   ]
  },
  {
   "cell_type": "markdown",
   "metadata": {},
   "source": [
    "One of the **function** that you will use a lot is `print`. It prints out the parameters."
   ]
  },
  {
   "cell_type": "code",
   "execution_count": null,
   "metadata": {},
   "outputs": [],
   "source": [
    "print(1)\n",
    "print(1,2,3,4,5)\n",
    "print(1+2)\n",
    "print(\"codebar\",1+2,1/3)"
   ]
  },
  {
   "cell_type": "markdown",
   "metadata": {},
   "source": [
    "Some of the parameters of `print` have some default value so that you don't have to give them a value or even know they exist! \n",
    "\n",
    "* `sep` is a string that will separate the differents objects printed out. By default it's a single space.\n",
    "* `end` is a string that will be printed out at the end. By default it's a `\\n` which is a special character to indicate a new line.\n",
    "\n",
    "Here an example to change these default value:"
   ]
  },
  {
   "cell_type": "code",
   "execution_count": null,
   "metadata": {},
   "outputs": [],
   "source": [
    "print(\"a string with space\", \" another one\", \"How do I know when they start and end?\")\n",
    "print(\"a string with spaces\", \" another one\", \"How do I know when they start and end?\", sep=\"_\")"
   ]
  },
  {
   "cell_type": "code",
   "execution_count": null,
   "metadata": {},
   "outputs": [],
   "source": [
    "print(1,2,3,4,5,6,7,8,9,end=' ')\n",
    "print(10,11,12,13,14,15,16,17,18,19)"
   ]
  },
  {
   "cell_type": "markdown",
   "metadata": {},
   "source": [
    "In a later tutorial, you will see how to use functions defined by others and how to create your own.\n",
    "***\n",
    "For our purpose of getting the birth year that we will look in PI we will use the **function** `input`.\n",
    "\n",
    "`input` will promt the user with the string passed as parameters and will return what the user has typed as a string. "
   ]
  },
  {
   "cell_type": "code",
   "execution_count": null,
   "metadata": {
    "scrolled": true
   },
   "outputs": [],
   "source": [
    "input(\"what's your age?: \")"
   ]
  },
  {
   "cell_type": "markdown",
   "metadata": {},
   "source": [
    "For our objective we will store the value typed by the user in the variable `birth_year`."
   ]
  },
  {
   "cell_type": "code",
   "execution_count": null,
   "metadata": {},
   "outputs": [],
   "source": [
    "birth_year = input(\"What is your birth year?: \")"
   ]
  },
  {
   "cell_type": "markdown",
   "metadata": {},
   "source": [
    "***\n",
    "### Exercise 2\n",
    "\n",
    "Ask to the user for three words and print it out on the same line separating them with unicorns 🦄 and ending with a nice rainbow 🌈. \n",
    "\n",
    "```\n",
    "What is the first word? codebar\n",
    "What is the second word? is\n",
    "What is the third word? fantastic\n",
    "\n",
    "codebar🦄is🦄fantastic🌈\n",
    "```"
   ]
  },
  {
   "cell_type": "code",
   "execution_count": null,
   "metadata": {},
   "outputs": [],
   "source": [
    "#your code here"
   ]
  },
  {
   "cell_type": "markdown",
   "metadata": {},
   "source": [
    "***\n",
    "### Solution\n",
    "You can found a solution executing the following cell.\n",
    "There is a lot of different way to obtains the same result in Python. If you have the same output as asked your answer is right too!"
   ]
  },
  {
   "cell_type": "code",
   "execution_count": null,
   "metadata": {},
   "outputs": [],
   "source": [
    "%load 01SupportingFiles/Exercise2.py"
   ]
  },
  {
   "cell_type": "markdown",
   "metadata": {},
   "source": [
    "***\n",
    "# Searching for the first occurence\n",
    "\n",
    "Let's try first to find the first digit of the year birth in Pi.\n",
    "\n",
    "Both `PI`and `birth_year` are **string** so they are **list** too. We can access to the nth digit in it with `[n-1]`."
   ]
  },
  {
   "cell_type": "code",
   "execution_count": null,
   "metadata": {},
   "outputs": [],
   "source": [
    "print(\"The first digit of birth_year is\",birth_year[0],\".\")\n",
    "print(\"The first digit of PI is\",PI[0],\".\")"
   ]
  },
  {
   "cell_type": "markdown",
   "metadata": {},
   "source": [
    "We need now to compare theses two characters. \n",
    "\n",
    "We will use the comparison **operator** equal `==` that will return `True` it the two values are equal and `False` otherwise."
   ]
  },
  {
   "cell_type": "code",
   "execution_count": null,
   "metadata": {},
   "outputs": [],
   "source": [
    "birth_year[0] == PI[0]"
   ]
  },
  {
   "cell_type": "markdown",
   "metadata": {},
   "source": [
    "The comparisons **operator** returns a value of type **boolean**.\n",
    "\n",
    "A **boolean** is a basic type in Python and can only have two different values `True` or `False`. \n",
    "\n",
    "Some others comparisons **operator** are:\n",
    "\n",
    "**operator**|Meaning\n",
    "---:|---:\n",
    "`!=`|not equal\n",
    "`<`|strictly less than\n",
    "`<=`|less than or equal\n",
    "`>`|strictly greater than\n",
    "`>=`|greater than or equal\n",
    "`==`|equal\n",
    "\n",
    "The basic operation on **booleans** are:\n",
    "\n",
    "Operation|Result\n",
    "---|---\n",
    "`x or y`|if `x` is `False`, then `y`, else `x`\t\n",
    "`x and y`|if `x` is `False`, then `x`, else `y`\t\n",
    "`not x`|if `x` is `False`, then `True`, else `False`\n",
    "\n",
    "You can use parenthesis when writing complex conditions to explicitly set the order of the operations instead of using the different priority between the operators."
   ]
  },
  {
   "cell_type": "code",
   "execution_count": null,
   "metadata": {},
   "outputs": [],
   "source": [
    "#guess the result before executing this cell\n",
    "x = 10\n",
    "x < 0 and x > 10 or x == 10"
   ]
  },
  {
   "cell_type": "code",
   "execution_count": null,
   "metadata": {},
   "outputs": [],
   "source": [
    "#guess the result before executing this cell\n",
    "x = 10\n",
    "(x < 0) and (x > 10 or x == 10)"
   ]
  },
  {
   "cell_type": "markdown",
   "metadata": {},
   "source": [
    "**boolean** are used usually with the `if` statement. \n",
    "\n",
    "```python\n",
    "if x > 5:\n",
    "    print(x,\"is greater than 5!\")\n",
    "```\n",
    "means if `x>5` then `print(x,\"is greater than 5!\"`\n",
    "\n",
    "\n",
    "There are 2 important thing to take into account:\n",
    "* the `:` indicates that the condition is over and that afterward it is the code that will be executed if the condition is true\n",
    "* the second line has a different indentation. It is recommended to use 4 spaces. As long as you have lines with the same identation it will be considered as belongin to the same **block** and will be executed if the condition is true"
   ]
  },
  {
   "cell_type": "code",
   "execution_count": null,
   "metadata": {},
   "outputs": [],
   "source": [
    "x = 7\n",
    "if x > 5:\n",
    "    print(x,\"is greater than 5!\")\n",
    "    print(\"still in the block\")\n",
    "print(\"not in the if block anymore\")"
   ]
  },
  {
   "cell_type": "code",
   "execution_count": null,
   "metadata": {},
   "outputs": [],
   "source": [
    "x = 3\n",
    "if x > 5:\n",
    "    print(x,\"is greater than 5!\")\n",
    "    print(\"still in the block\")\n",
    "print(\"not in the if block anymore\")"
   ]
  },
  {
   "cell_type": "markdown",
   "metadata": {},
   "source": [
    "The complete form of the `if` statement is \n",
    "```python\n",
    "if condition:\n",
    "    #block executed if true\n",
    "elif second_condition:\n",
    "    #block executed if the first condition is False and the second_condition is True\n",
    "elif other_condition:\n",
    "    #block executed if all the previous condition were False and the other_condition is True\n",
    "else :\n",
    "    #block executed if all the previous condition were False \n",
    "```"
   ]
  },
  {
   "cell_type": "code",
   "execution_count": null,
   "metadata": {},
   "outputs": [],
   "source": [
    "#try with different values for x\n",
    "x = 42\n",
    "if x < 0:\n",
    "    print(x,\"is negative.\")\n",
    "elif x > 100:\n",
    "    print(x,\"is greater than 100.\")\n",
    "elif x%2 == 0: # % is the operator modulo. it gives the remainer of the integer division.\n",
    "    print(x,\"is even, positive and smaller than 100.\")\n",
    "    print(x * '🌈')\n",
    "else:\n",
    "    print(x,\"is odd, positive and smaller than 100.\") "
   ]
  },
  {
   "cell_type": "markdown",
   "metadata": {},
   "source": [
    "It is allowed to write an `if` in one line when there is only one instructions to execute and no else or elif."
   ]
  },
  {
   "cell_type": "code",
   "execution_count": null,
   "metadata": {},
   "outputs": [],
   "source": [
    "x = 42\n",
    "if x%2: print(x,\"is even.\")"
   ]
  },
  {
   "cell_type": "markdown",
   "metadata": {},
   "source": [
    "In python `elif` can be read as \"else if\" but not as `else if`"
   ]
  },
  {
   "cell_type": "code",
   "execution_count": null,
   "metadata": {},
   "outputs": [],
   "source": [
    "# elif is not else if\n",
    "x = 42\n",
    "if x < 0:\n",
    "    print(x,\"is negative.\")\n",
    "else if x > 100:\n",
    "    print(x,\"is greater than 100.\")\n",
    "else:\n",
    "     print(x,\"is odd, positive and smaller than 100.\") "
   ]
  },
  {
   "cell_type": "markdown",
   "metadata": {},
   "source": [
    "***\n",
    "Let's go back to our problem"
   ]
  },
  {
   "cell_type": "code",
   "execution_count": null,
   "metadata": {},
   "outputs": [],
   "source": [
    "if birth_year[0] == PI[0]:\n",
    "    print(\"Found it! It's 0.\")\n",
    "else: \n",
    "    print(\"It's not 0.\")"
   ]
  },
  {
   "cell_type": "markdown",
   "metadata": {},
   "source": [
    "The first digit of the `birth_year` is not the first digit of `PI` so we have to look further."
   ]
  },
  {
   "cell_type": "code",
   "execution_count": null,
   "metadata": {},
   "outputs": [],
   "source": [
    "if birth_year[0] == PI[1]:\n",
    "    print(\"Found it! It's 1.\")\n",
    "else: \n",
    "    print(\"It's not 1.\")"
   ]
  },
  {
   "cell_type": "markdown",
   "metadata": {},
   "source": [
    "We programmer are laxy, so we won't copy paste the code any further and change by hand the number. We will use a variable. Let's call her `i`."
   ]
  },
  {
   "cell_type": "code",
   "execution_count": null,
   "metadata": {},
   "outputs": [],
   "source": [
    "i = 0"
   ]
  },
  {
   "cell_type": "code",
   "execution_count": null,
   "metadata": {},
   "outputs": [],
   "source": [
    "if birth_year[0] == PI[i]:\n",
    "    print(\"Found it! It's\",i,\".\")\n",
    "else: \n",
    "    print(\"It's not\",i,\".\")"
   ]
  },
  {
   "cell_type": "code",
   "execution_count": null,
   "metadata": {},
   "outputs": [],
   "source": [
    "#execute me and the precedent cell if you haven't found the correct i\n",
    "i = i + 1"
   ]
  },
  {
   "cell_type": "markdown",
   "metadata": {},
   "source": [
    "So we have:\n",
    "* executed the first cell to initialize `i`, \n",
    "* then we have checked the condition in the second cell, \n",
    "* and if the result was no reached, we increment `i` in the third cell and go back to the second cell, \n",
    "* till we found the correct i.\n",
    "\n",
    "In programming this is called a **loop** and more precicesly a **while** loop and there is an in\n",
    "\n",
    "```python\n",
    "while condition:\n",
    "    #block to be executed while the condition is not True\n",
    "```"
   ]
  },
  {
   "cell_type": "code",
   "execution_count": null,
   "metadata": {},
   "outputs": [],
   "source": [
    "i=0\n",
    "while birth_year[0] != PI[i]:\n",
    "    print(\"It's not\", i, \".\")\n",
    "    i += 1 # it's a shorter version of i = i + 1\n",
    "print(\"Found it! It's\", i, \".\")"
   ]
  },
  {
   "cell_type": "markdown",
   "metadata": {},
   "source": [
    "Before going to the next step in our program let's fix something unpleaseant. \n",
    "\n",
    "There is always a space between the number and the point at the end of the phrase because we have use print that by default use a space as separator. We could use nothing as a separator and change our string to put some space where we want like this:\n",
    "```python\n",
    "print(\"It's not \", i, \".\", sep='')\n",
    "```\n",
    "but it hasn't made our print clearer.\n",
    "\n",
    "A better way it to use the **function** `str.format`.\n",
    "```python\n",
    "str.format(\"It's not {}.\",i)\n",
    "```\n",
    "`{}`is called a placeholder and will be substitute by the value of the following parameter.\n",
    "\n",
    "Another and preferable way to use the **function** `str.format` is \n",
    "```python\n",
    "\"It's not {}.\".format(i)\n",
    "```\n",
    "Let's applicate to our case:"
   ]
  },
  {
   "cell_type": "code",
   "execution_count": null,
   "metadata": {},
   "outputs": [],
   "source": [
    "#change the following code to use format in the 2 print calls\n",
    "i=0\n",
    "while birth_year[0] != PI[i]:\n",
    "    print(\"It's not\", i, \".\")\n",
    "    i += 1 \n",
    "print(\"Found it! It's\", i, \".\")"
   ]
  },
  {
   "cell_type": "code",
   "execution_count": null,
   "metadata": {},
   "outputs": [],
   "source": [
    "#need a hint? load the solution\n",
    "%load 01SupportingFiles/whilerefactored.py"
   ]
  },
  {
   "cell_type": "markdown",
   "metadata": {},
   "source": [
    "🙌 🎉 You have refactored your code! 🦄 🌈\n",
    "\n",
    "Code refactoring is when you rewrite part of your code without changing it's functionality to make it better, cleaner, quicker etc . It's a classic best practices in programming. \n",
    "\n",
    "If your are interested https://en.wikipedia.org/wiki/Code_refactoring "
   ]
  },
  {
   "cell_type": "markdown",
   "metadata": {},
   "source": [
    "***\n",
    "`format` is really powerfull and here are some more complex usages before going on to the next step\n",
    "* more than one parameter"
   ]
  },
  {
   "cell_type": "code",
   "execution_count": null,
   "metadata": {},
   "outputs": [],
   "source": [
    "\"It's not {}. It's {}.\".format(4,42)"
   ]
  },
  {
   "cell_type": "markdown",
   "metadata": {},
   "source": [
    "* some index in the placeholders to better know which parameter to use"
   ]
  },
  {
   "cell_type": "code",
   "execution_count": null,
   "metadata": {},
   "outputs": [],
   "source": [
    "\"It's not {0}. It's {1}. I already told you it was not {0}.\".format(4, 42)"
   ]
  },
  {
   "cell_type": "markdown",
   "metadata": {},
   "source": [
    "* names in the placeholders to reference the correct parameters."
   ]
  },
  {
   "cell_type": "code",
   "execution_count": null,
   "metadata": {},
   "outputs": [],
   "source": [
    "\"It's not {four}. It's {fourtytwo}.\".format(four=4, \n",
    "                                            fourtytwo=42)"
   ]
  },
  {
   "cell_type": "markdown",
   "metadata": {},
   "source": [
    "With `format` the parameters are automatically transform into string and you can even give some instruction in the placeholder on how to transform the parameter to a string."
   ]
  },
  {
   "cell_type": "code",
   "execution_count": null,
   "metadata": {},
   "outputs": [],
   "source": [
    "print(\"fourtytwo is {:b} in binary\".format(42))\n",
    "print(\"fourtytwo is {:f} in float\".format(42))\n",
    "print(\"a third is {:f} with fix point notation\".format(1.0/3))\n",
    "print(\"a third is {:e} with exponent notation\".format(1.0/3))\n",
    "print(\"a third is {:.3f} with fix point number with a precision of 3\".format(1.0/3))\n",
    "print(\"a million third is {:018.3f} with fix point number with a precision of 3 and a width of 18 with a filling with 0\".format(1000000.0/3)) \n"
   ]
  },
  {
   "cell_type": "markdown",
   "metadata": {},
   "source": [
    "The format use called format specification mini language is documented at\n",
    "https://docs.python.org/3.5/library/string.html#format-specification-mini-language ."
   ]
  },
  {
   "cell_type": "markdown",
   "metadata": {},
   "source": [
    "***\n",
    "# and now the hundreds, tens ...\n",
    "\n",
    "We have found a way to found the first digit of Pi that is equal to the thousand of our birth year, but we need to found all the birth year not just the thousand.\n",
    "\n",
    "Let's change the condition of our while to take into account the hundreds"
   ]
  },
  {
   "cell_type": "code",
   "execution_count": null,
   "metadata": {},
   "outputs": [],
   "source": [
    "i=0\n",
    "while not (birth_year[0] == PI[i] and \n",
    "           birth_year[1] == PI[i+1] ):\n",
    "    print(\"It's not {}.\".format(i))\n",
    "    i += 1 \n",
    "print(\"Found it! It's {}\".format(i))"
   ]
  },
  {
   "cell_type": "markdown",
   "metadata": {},
   "source": [
    "change the condition to add the tens and units"
   ]
  },
  {
   "cell_type": "code",
   "execution_count": null,
   "metadata": {},
   "outputs": [],
   "source": [
    "#your turn\n",
    "i=0\n",
    "while not (birth_year[0] == PI[i] and \n",
    "           birth_year[1] == PI[i+1] ):\n",
    "    print(\"It's not {}.\".format(i))\n",
    "    i += 1 \n",
    "print(\"Found it! It's {}\".format(i))"
   ]
  },
  {
   "cell_type": "code",
   "execution_count": null,
   "metadata": {},
   "outputs": [],
   "source": [
    "#need a hint? load the solution\n",
    "%load 01SupportingFiles/whileloop.py"
   ]
  },
  {
   "cell_type": "markdown",
   "metadata": {},
   "source": [
    "The solution we have obtained is working fine but what if I tell you that you can easily extract a string from another? \n",
    "\n",
    "To obtain a new list with the element we can use a **slice**. It's easier to understand with jsome examples:"
   ]
  },
  {
   "cell_type": "code",
   "execution_count": 246,
   "metadata": {},
   "outputs": [
    {
     "name": "stdout",
     "output_type": "stream",
     "text": [
      "0123456789\n"
     ]
    }
   ],
   "source": [
    "the_numbers=\"0123456789\"\n",
    "print(the_numbers)"
   ]
  },
  {
   "cell_type": "code",
   "execution_count": 240,
   "metadata": {},
   "outputs": [
    {
     "data": {
      "text/plain": [
       "'2345'"
      ]
     },
     "execution_count": 240,
     "metadata": {},
     "output_type": "execute_result"
    }
   ],
   "source": [
    "#from the 3rd to the six element (list index starts at 0 in Python)\n",
    "the_numbers[2:6]"
   ]
  },
  {
   "cell_type": "code",
   "execution_count": 233,
   "metadata": {},
   "outputs": [
    {
     "data": {
      "text/plain": [
       "'456789'"
      ]
     },
     "execution_count": 233,
     "metadata": {},
     "output_type": "execute_result"
    }
   ],
   "source": [
    "#from the index 4 till the end \n",
    "the_numbers[4:]"
   ]
  },
  {
   "cell_type": "code",
   "execution_count": 234,
   "metadata": {},
   "outputs": [
    {
     "data": {
      "text/plain": [
       "'0123456'"
      ]
     },
     "execution_count": 234,
     "metadata": {},
     "output_type": "execute_result"
    }
   ],
   "source": [
    "#from the start till the index 6 \n",
    "the_numbers[:7]"
   ]
  },
  {
   "cell_type": "code",
   "execution_count": 235,
   "metadata": {},
   "outputs": [
    {
     "data": {
      "text/plain": [
       "'012345678'"
      ]
     },
     "execution_count": 235,
     "metadata": {},
     "output_type": "execute_result"
    }
   ],
   "source": [
    "#from the start till before last\n",
    "the_numbers[:-1]"
   ]
  },
  {
   "cell_type": "code",
   "execution_count": 236,
   "metadata": {},
   "outputs": [
    {
     "data": {
      "text/plain": [
       "'0123456'"
      ]
     },
     "execution_count": 236,
     "metadata": {},
     "output_type": "execute_result"
    }
   ],
   "source": [
    "#from the start till before-before-before last\n",
    "the_numbers[:-3]"
   ]
  },
  {
   "cell_type": "code",
   "execution_count": 237,
   "metadata": {},
   "outputs": [
    {
     "data": {
      "text/plain": [
       "'02468'"
      ]
     },
     "execution_count": 237,
     "metadata": {},
     "output_type": "execute_result"
    }
   ],
   "source": [
    "#from the start till the end using a step of 2\n",
    "the_numbers[::2]"
   ]
  },
  {
   "cell_type": "code",
   "execution_count": 239,
   "metadata": {},
   "outputs": [
    {
     "data": {
      "text/plain": [
       "'14'"
      ]
     },
     "execution_count": 239,
     "metadata": {},
     "output_type": "execute_result"
    }
   ],
   "source": [
    "#from the index 1 to index 6 with a step of 3\n",
    "the_numbers[1:7:3]"
   ]
  },
  {
   "cell_type": "code",
   "execution_count": 238,
   "metadata": {},
   "outputs": [
    {
     "data": {
      "text/plain": [
       "'9876543210'"
      ]
     },
     "execution_count": 238,
     "metadata": {},
     "output_type": "execute_result"
    }
   ],
   "source": [
    "#from the start till the end with a step of -1\n",
    "the_numbers[::-1]"
   ]
  },
  {
   "cell_type": "markdown",
   "metadata": {},
   "source": [
    "***\n",
    "Now let's refactor our code to use slice"
   ]
  },
  {
   "cell_type": "code",
   "execution_count": null,
   "metadata": {},
   "outputs": [],
   "source": [
    "#write the condition using a slice\n",
    "i=0\n",
    "while ... :\n",
    "    print(\"It's not {}.\".format(i))\n",
    "    i += 1 \n",
    "print(\"Found it! It's {}\".format(i))"
   ]
  },
  {
   "cell_type": "code",
   "execution_count": null,
   "metadata": {},
   "outputs": [],
   "source": [
    "#need a hint? load the solution\n",
    "%load 01SupportingFiles/whileloopslice.py"
   ]
  },
  {
   "cell_type": "markdown",
   "metadata": {},
   "source": [
    "# Let's put it all together\n"
   ]
  },
  {
   "cell_type": "code",
   "execution_count": null,
   "metadata": {},
   "outputs": [],
   "source": [
    "# put all the code together\n",
    "# getting PI\n",
    "# asking for the birth year\n",
    "# while loop to found the birth year in PI"
   ]
  },
  {
   "cell_type": "code",
   "execution_count": 295,
   "metadata": {},
   "outputs": [
    {
     "name": "stdout",
     "output_type": "stream",
     "text": [
      "What is your birth year?: 8646\n"
     ]
    },
    {
     "ename": "KeyboardInterrupt",
     "evalue": "",
     "output_type": "error",
     "traceback": [
      "\u001b[0;31m\u001b[0m",
      "\u001b[0;31mKeyboardInterrupt\u001b[0mTraceback (most recent call last)",
      "\u001b[0;32m<ipython-input-295-622571a81cbb>\u001b[0m in \u001b[0;36m<module>\u001b[0;34m()\u001b[0m\n\u001b[1;32m      4\u001b[0m \u001b[0mi\u001b[0m\u001b[0;34m=\u001b[0m\u001b[0;36m0\u001b[0m\u001b[0;34m\u001b[0m\u001b[0m\n\u001b[1;32m      5\u001b[0m \u001b[0;32mwhile\u001b[0m \u001b[0;32mnot\u001b[0m \u001b[0;34m(\u001b[0m\u001b[0mbirth_year\u001b[0m \u001b[0;34m==\u001b[0m \u001b[0mPI\u001b[0m\u001b[0;34m[\u001b[0m\u001b[0mi\u001b[0m\u001b[0;34m:\u001b[0m\u001b[0mi\u001b[0m\u001b[0;34m+\u001b[0m\u001b[0;36m4\u001b[0m\u001b[0;34m]\u001b[0m\u001b[0;34m)\u001b[0m\u001b[0;34m:\u001b[0m\u001b[0;34m\u001b[0m\u001b[0m\n\u001b[0;32m----> 6\u001b[0;31m     \u001b[0mi\u001b[0m \u001b[0;34m+=\u001b[0m \u001b[0;36m1\u001b[0m\u001b[0;34m\u001b[0m\u001b[0m\n\u001b[0m\u001b[1;32m      7\u001b[0m \u001b[0mprint\u001b[0m\u001b[0;34m(\u001b[0m\u001b[0;34m\"Found it! It's {}\"\u001b[0m\u001b[0;34m.\u001b[0m\u001b[0mformat\u001b[0m\u001b[0;34m(\u001b[0m\u001b[0mi\u001b[0m\u001b[0;34m)\u001b[0m\u001b[0;34m)\u001b[0m\u001b[0;34m\u001b[0m\u001b[0m\n",
      "\u001b[0;31mKeyboardInterrupt\u001b[0m: "
     ]
    }
   ],
   "source": [
    "#need a hint? load the solution\n",
    "%load 01SupportingFiles/alltogether.py"
   ]
  },
  {
   "cell_type": "markdown",
   "metadata": {},
   "source": [
    "Are we done? Can we publish it to github and proudly present our first program in python to the world?\n",
    "\n",
    "NO! Because your program has not be tested and a program that has not been tested is not finished. Programming code is not just writing code is testing it too.\n",
    "\n",
    "There is only one thing that can change in our code. it's the birth year.\n",
    "Try rexecute your code and see if something happens."
   ]
  },
  {
   "cell_type": "markdown",
   "metadata": {},
   "source": [
    "***\n",
    "You should have found something unexpected. If not load some hints with the following cell"
   ]
  },
  {
   "cell_type": "code",
   "execution_count": null,
   "metadata": {},
   "outputs": [],
   "source": [
    "%load 01SupportingFiles/testcases"
   ]
  },
  {
   "cell_type": "markdown",
   "metadata": {},
   "source": [
    "🙌 🎉 You have found your first bug! 🦄 🌈\n",
    "\n",
    "A bug is something in your code that may produce something bad under some circonstances. Historically. in the 40's and 50's, theye were real bug that provoke shortcircuit in the computers. Now they are mainly due to some errors, imprecisions or inprudence in the code that under some conditions will make the code behave unexpectedly."
   ]
  },
  {
   "cell_type": "markdown",
   "metadata": {},
   "source": [
    "Your program hasn't given any output and in fact it is still running. On the left side the square bracket contains a `*` indicating that the program is still running. You can stop it with the square black button or with the menu Kernel/Interupt.\n"
   ]
  },
  {
   "cell_type": "markdown",
   "metadata": {},
   "source": [
    "To solve this bug, you should check that the user has introduced a birth year that is valid for our processing. A positive number with four characters is expected.\n",
    "\n",
    "`str.isdigit` is a function that return `True` when the string is a positive number\n",
    "\n",
    "for example:"
   ]
  },
  {
   "cell_type": "code",
   "execution_count": 264,
   "metadata": {},
   "outputs": [
    {
     "data": {
      "text/plain": [
       "True"
      ]
     },
     "execution_count": 264,
     "metadata": {},
     "output_type": "execute_result"
    }
   ],
   "source": [
    "'42'.isdigit()"
   ]
  },
  {
   "cell_type": "code",
   "execution_count": 265,
   "metadata": {},
   "outputs": [
    {
     "data": {
      "text/plain": [
       "False"
      ]
     },
     "execution_count": 265,
     "metadata": {},
     "output_type": "execute_result"
    }
   ],
   "source": [
    "'unicorn'.isdigit()"
   ]
  },
  {
   "cell_type": "code",
   "execution_count": 286,
   "metadata": {},
   "outputs": [
    {
     "data": {
      "text/plain": [
       "False"
      ]
     },
     "execution_count": 286,
     "metadata": {},
     "output_type": "execute_result"
    }
   ],
   "source": [
    "'-4'.isdigit()"
   ]
  },
  {
   "cell_type": "code",
   "execution_count": 287,
   "metadata": {},
   "outputs": [
    {
     "data": {
      "text/plain": [
       "False"
      ]
     },
     "execution_count": 287,
     "metadata": {},
     "output_type": "execute_result"
    }
   ],
   "source": [
    "'3.14'.isdigit()"
   ]
  },
  {
   "cell_type": "markdown",
   "metadata": {},
   "source": [
    "***\n",
    "Now you can change the code that ask for the birth year. If the first input is not a number and with 4 charcaters, ask another time with a text more explicit till you obtain a valid `birth_year`"
   ]
  },
  {
   "cell_type": "code",
   "execution_count": null,
   "metadata": {},
   "outputs": [],
   "source": [
    "#add a check on the user input\n",
    "birth_year = input(\"What is your birth year?: \")"
   ]
  },
  {
   "cell_type": "code",
   "execution_count": null,
   "metadata": {},
   "outputs": [],
   "source": [
    "#need a hint? load the solution\n",
    "%load 01SupportingFiles/checkbirthyear.py"
   ]
  },
  {
   "cell_type": "code",
   "execution_count": null,
   "metadata": {},
   "outputs": [],
   "source": []
  },
  {
   "cell_type": "markdown",
   "metadata": {},
   "source": [
    "# push it to github!\n",
    "* start the codebar repo\n",
    "* learn github\n",
    "* create a repo\n",
    "* save your file\n",
    "* push it to github\n",
    "* See it\n",
    "* create a boton to access it to mybinder"
   ]
  },
  {
   "cell_type": "markdown",
   "metadata": {},
   "source": [
    "# install python onm your laptop\n",
    "* install python\n",
    "* execute interactively\n",
    "* execute a script"
   ]
  },
  {
   "cell_type": "code",
   "execution_count": null,
   "metadata": {},
   "outputs": [],
   "source": [
    "input the year birth date ( learn variable and input)\n",
    "print it (print)\n",
    "found the first occurence of the first number of the birthdate by hand ( string are arrays or list, access to an element. comparison,print intermediate output (print and format)):\n",
    "test with 0,1\n",
    "use a variable set at 0\n",
    "test\n",
    "increment \n",
    "loop by hand\n",
    "computer are better than this but first format to have ma look at what happens \n",
    "make a loop in code (while ,format)\n",
    "more elaborate test comparaison for all the digity in the year ( or )\n",
    "\n",
    "that's it. "
   ]
  }
 ],
 "metadata": {
  "kernelspec": {
   "display_name": "Python 3",
   "language": "python",
   "name": "python3"
  },
  "language_info": {
   "codemirror_mode": {
    "name": "ipython",
    "version": 3
   },
   "file_extension": ".py",
   "mimetype": "text/x-python",
   "name": "python",
   "nbconvert_exporter": "python",
   "pygments_lexer": "ipython3",
   "version": "3.6.4"
  }
 },
 "nbformat": 4,
 "nbformat_minor": 2
}
