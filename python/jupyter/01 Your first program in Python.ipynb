{
 "cells": [
  {
   "cell_type": "markdown",
   "metadata": {},
   "source": [
    "# Your first program in Python\n",
    "\n",
    "You will learn some basic of programming with python by looking for your birth year in the number pi. \n",
    "\n",
    "At the end of this tutorial you will have an understanding of:\n",
    "* variables\n",
    "* printing\n",
    "* loops\n",
    "* string, integer and float\n",
    "* comparison\n",
    "* jupyter"
   ]
  },
  {
   "cell_type": "markdown",
   "metadata": {},
   "source": [
    "## First steps with Jupyter Notebook\n",
    "\n",
    "Before learning programming with python, let's have a look at our working environment.\n",
    "\n",
    "This tutorial is using Jupyter Notebook so that you don't have to install anything to start learning python.\n",
    "\n",
    "Jupyter Notebook is an open-source web application that allows you to create and share documents that contain live code, equations, visualizations and narrative text (more info at http://jupyter.org)\n"
   ]
  },
  {
   "cell_type": "markdown",
   "metadata": {},
   "source": [
    "\n",
    "There are differents type of cells. Some are text like the one you are reading and the most interesting ones are code and the result of this code execution.\n",
    "\n",
    "The following cell is **code**. Type ``` 1 + 1 ``` inside it and press **`Shift`** and **`Enter`** simultanously.\n"
   ]
  },
  {
   "cell_type": "code",
   "execution_count": null,
   "metadata": {
    "scrolled": false
   },
   "outputs": [],
   "source": []
  },
  {
   "cell_type": "markdown",
   "metadata": {},
   "source": [
    "🙌 🎉 You have executed your first statement in Python! 🦄 🌈 👨‍💻 👩‍💻"
   ]
  },
  {
   "cell_type": "markdown",
   "metadata": {},
   "source": [
    "To execute a cell, you have to press **`Shift`** and **`Enter`** in the cell or use the **Run** button.\n",
    "\n",
    "On the left of the cell:\n",
    "* `[ ]` indicates that the cell has not been yet executed.\n",
    "* `[*]` indicates that the cell is executing.\n",
    "* `[number]` indicates that the cell has been executed. The number indicates the order of the execution between the different cells"
   ]
  },
  {
   "cell_type": "markdown",
   "metadata": {},
   "source": [
    "Go back to the ```1+1``` cell and re-execute it. The number in the square bracket increases. \n",
    "\n",
    "The result has been recalculated but should stay the same."
   ]
  },
  {
   "cell_type": "markdown",
   "metadata": {},
   "source": [
    "When a cell is executed, the notebook takes into account the code typed in the cell and the state that resulted from the previously executed cells."
   ]
  },
  {
   "cell_type": "markdown",
   "metadata": {},
   "source": [
    "You can use the **+** button to create a new cell. By default it is a **code** cell but you can change its type to **Markdown** using the drop down list if you want to add your own text in this notebook. \n",
    "\n",
    "Create a new cell, change its type to **markdown**, type ```$c=\\sqrt{a^2 + b^2}$``` in it and press **`Shift Enter`**."
   ]
  },
  {
   "cell_type": "markdown",
   "metadata": {},
   "source": [
    "***"
   ]
  },
  {
   "cell_type": "markdown",
   "metadata": {},
   "source": [
    "With **markdown** you can really display formatted text easily. \n",
    "\n",
    "You can find more information on markdown here (https://guides.github.com/features/mastering-markdown/ )."
   ]
  },
  {
   "cell_type": "markdown",
   "metadata": {},
   "source": [
    "To finish with these first steps with jupyter notebook, you can download your notebook on your laptop so that you can reuse it later by uploading it in another jupyter notebook instance.\n",
    "\n",
    "* **Download** your notebook from the **File** menu in the web page. Use **Notebook(*.ipynb)** format.\n",
    "* Use **Open...** menu in the **File** menu to open the jupyter notebook home and use the **upload** button to load your notebook.\n",
    "* From the jupyter notebook home you can use **New** to create a new blank notebook\n",
    "***"
   ]
  },
  {
   "cell_type": "markdown",
   "metadata": {},
   "source": [
    "⚠️ ⚠️ ⚠️ ⚠️ ⚠️ ⚠️ ⚠️ ⚠️ ⚠️ ⚠️ ⚠️ ⚠️ ⚠️ ⚠️ ⚠️ ⚠️ ⚠️ ⚠️\n",
    "\n",
    "If your are using mybinder to execute this notebook (Does the url in your browser starts with hub.mybinder.org ?) you will need to save your work regularly as this free hosted service has a 10 minutes timeout: when you don't execute any code cells (when you are reading the explanations and instructions for example) your session will be closed after 10  minutes of inactivty and your progress will be lost. \n",
    "\n",
    "⚠️ ⚠️ ⚠️ ⚠️ ⚠️ ⚠️ ⚠️ ⚠️ ⚠️ ⚠️ ⚠️ ⚠️ ⚠️ ⚠️ ⚠️ ⚠️ ⚠️ ⚠️"
   ]
  },
  {
   "cell_type": "markdown",
   "metadata": {},
   "source": [
    "Now that you have learned how to use this environment, let's really start programming in python! "
   ]
  },
  {
   "cell_type": "markdown",
   "metadata": {},
   "source": [
    "# Getting Pi\n",
    "\n",
    "Our first step is to work with Pi. We won't type Pi each time we need it because we programmers are lazy. We will use what we call a **variable**. \n",
    "\n",
    "A **variable** has a name. A value can be assign to it and when the name is use in the code it will be understood as its value."
   ]
  },
  {
   "cell_type": "markdown",
   "metadata": {},
   "source": [
    "In Python to assign a value to a **variable** we use `=` as in the following example (execute the following cell with **`Shift Enter`**):"
   ]
  },
  {
   "cell_type": "code",
   "execution_count": null,
   "metadata": {
    "scrolled": false
   },
   "outputs": [],
   "source": [
    "my_variable = 4"
   ]
  },
  {
   "cell_type": "markdown",
   "metadata": {},
   "source": [
    "You can now reuse `my_variable` in another part of your code as if it was the value (execute the following cell with **`Shift Enter`**)."
   ]
  },
  {
   "cell_type": "code",
   "execution_count": null,
   "metadata": {
    "scrolled": false
   },
   "outputs": [],
   "source": [
    "my_variable + 1"
   ]
  },
  {
   "cell_type": "markdown",
   "metadata": {},
   "source": [
    "You can change the value contained inside the **variable** whenever you want reassigning another value (execute the following cell with **`Shift Enter`**  and reexecute the previous cell)."
   ]
  },
  {
   "cell_type": "code",
   "execution_count": null,
   "metadata": {
    "scrolled": false
   },
   "outputs": [],
   "source": [
    "my_variable = 42"
   ]
  },
  {
   "cell_type": "markdown",
   "metadata": {},
   "source": [
    "A **comment** is some text inside code that won't be interpreted as code.\n",
    "In Python when a line start with **#** it is not interpreted as code and it is used to give useful information to the human reading the code."
   ]
  },
  {
   "cell_type": "code",
   "execution_count": null,
   "metadata": {
    "scrolled": false
   },
   "outputs": [],
   "source": [
    "# This line is a comment\n",
    "# This line too!\n",
    "# They are not interpreted as code\n",
    "# and are used to give useful information to the human reading the code."
   ]
  },
  {
   "cell_type": "markdown",
   "metadata": {},
   "source": [
    "Instructions will now be given as comment inside the code cells. "
   ]
  },
  {
   "cell_type": "markdown",
   "metadata": {},
   "source": [
    "Pi won't change inside your code once you assign it a value. \n",
    "\n",
    "In Python when the name of a **variable** is uppercase it is considered **constant**, it's a **variable** that the value will not change."
   ]
  },
  {
   "cell_type": "code",
   "execution_count": null,
   "metadata": {
    "scrolled": false
   },
   "outputs": [],
   "source": [
    "# the constant PI\n",
    "PI = 3.14"
   ]
  },
  {
   "cell_type": "markdown",
   "metadata": {},
   "source": [
    "Let's add 1 to Pi and see what happens."
   ]
  },
  {
   "cell_type": "code",
   "execution_count": null,
   "metadata": {
    "scrolled": false
   },
   "outputs": [],
   "source": [
    "# type PI + 1 here and press Shift Enter\n"
   ]
  },
  {
   "cell_type": "markdown",
   "metadata": {},
   "source": [
    "\n",
    "It's not what you were expecting no?\n",
    "In Python, **float** are internally in binary format with thirty two _0_ and _1_. When python converts the **float** from decimal format to binary there is a slight error and sometime these errors add up and can be seen.\n",
    "\n",
    "To avoid this limitation, we won't store PI as a float but as a **string**.\n",
    "\n",
    "A **string** is a **list** of characters. In Python code a **string** is usually delimited by ```'```or ```\"```."
   ]
  },
  {
   "cell_type": "code",
   "execution_count": null,
   "metadata": {
    "scrolled": false
   },
   "outputs": [],
   "source": [
    "'This is a string'"
   ]
  },
  {
   "cell_type": "code",
   "execution_count": null,
   "metadata": {
    "scrolled": false
   },
   "outputs": [],
   "source": [
    "\"This too is a string. And there is almost no limit to its size.\""
   ]
  },
  {
   "cell_type": "code",
   "execution_count": null,
   "metadata": {
    "scrolled": false
   },
   "outputs": [],
   "source": [
    "'A string can contain any characters é è ñ ó ò ^*¨Ç¿?=O'"
   ]
  },
  {
   "cell_type": "code",
   "execution_count": null,
   "metadata": {
    "scrolled": false
   },
   "outputs": [],
   "source": [
    "\"A double quote delimited string can be used to have a single quote ' in a string\""
   ]
  },
  {
   "cell_type": "code",
   "execution_count": null,
   "metadata": {
    "scrolled": false
   },
   "outputs": [],
   "source": [
    "' and vice-versa \" '"
   ]
  },
  {
   "cell_type": "code",
   "execution_count": null,
   "metadata": {
    "scrolled": false
   },
   "outputs": [],
   "source": [
    "' or you can protect a character with backslash like this \\' .' "
   ]
  },
  {
   "cell_type": "code",
   "execution_count": null,
   "metadata": {
    "scrolled": false
   },
   "outputs": [],
   "source": [
    "'''With tripling the delimiter \n",
    "you can a have multiline string\n",
    "like this one.'''"
   ]
  },
  {
   "cell_type": "markdown",
   "metadata": {},
   "source": [
    "The last output is here not displayed on 3 different lines but you can see a  special character `\\n` that means `newline`. In a different context is might be displayed correctly."
   ]
  },
  {
   "cell_type": "markdown",
   "metadata": {},
   "source": [
    "***\n",
    "Let's go back to Pi. \n",
    "\n",
    "Initialize the **constant** `PI` with a string of 100 first digit of Pi in the next cell."
   ]
  },
  {
   "cell_type": "code",
   "execution_count": null,
   "metadata": {
    "scrolled": false
   },
   "outputs": [],
   "source": []
  },
  {
   "cell_type": "markdown",
   "metadata": {},
   "source": [
    "If you don't know them here is a little help. \n",
    "\n",
    "Execute the following cell twice."
   ]
  },
  {
   "cell_type": "code",
   "execution_count": null,
   "metadata": {
    "scrolled": false
   },
   "outputs": [],
   "source": [
    "%load 01SupportingFiles/pi.py"
   ]
  },
  {
   "cell_type": "markdown",
   "metadata": {},
   "source": [
    "The `%load` is a jupyter instruction not a Python one.\n",
    "\n",
    "The first execution of the cell has loaded the content of the indicted external file and put its content in the cell. \n",
    "\n",
    "The second execution of the cell has executed this new content of this cell.\n",
    "\n",
    "Now you have some digits in your PI variable to play with!"
   ]
  },
  {
   "cell_type": "code",
   "execution_count": null,
   "metadata": {
    "scrolled": true
   },
   "outputs": [],
   "source": [
    "#execute me!\n",
    "PI"
   ]
  },
  {
   "cell_type": "markdown",
   "metadata": {},
   "source": [
    "To access the character at a specific position in a **string** we use squared brackets `[` and `]`."
   ]
  },
  {
   "cell_type": "code",
   "execution_count": null,
   "metadata": {
    "scrolled": false
   },
   "outputs": [],
   "source": [
    "#execute me!\n",
    "PI[1]"
   ]
  },
  {
   "cell_type": "markdown",
   "metadata": {},
   "source": [
    "But in Python and most programming languages, the positions in a list starts at 0 not 1."
   ]
  },
  {
   "cell_type": "code",
   "execution_count": null,
   "metadata": {
    "scrolled": false
   },
   "outputs": [],
   "source": [
    "#execute me!\n",
    "PI[0]"
   ]
  },
  {
   "cell_type": "markdown",
   "metadata": {},
   "source": [
    "Before ending this chapter let's play a little bit with strings."
   ]
  },
  {
   "cell_type": "code",
   "execution_count": null,
   "metadata": {
    "scrolled": false
   },
   "outputs": [],
   "source": [
    "#execute me!\n",
    "1 + PI"
   ]
  },
  {
   "cell_type": "markdown",
   "metadata": {},
   "source": [
    "🙌 🎉 You first exception in Python! 🦄 🌈\n",
    "\n",
    "In programming, errors or exceptions are not bad. They just indicated that the computer does not know what to do. \n",
    "\n",
    "In our case, the message says that it cannot make a `+` between an **int** and a **str**. \n",
    "\n",
    "Python does not know how to add an integer to a string.\n",
    "\n",
    "You have already learned that here PI has been initialized as a string or **str**.\n",
    "\n",
    "`1` without delimiters is interpreted by Python as an integer or **int**. \n",
    "\n",
    "Python does not know how to make a `+` between an **int** and a **str**. \n",
    "\n",
    "We have already seen a `+` between 2 **int**."
   ]
  },
  {
   "cell_type": "code",
   "execution_count": null,
   "metadata": {
    "scrolled": false
   },
   "outputs": [],
   "source": [
    "1 + 42"
   ]
  },
  {
   "cell_type": "markdown",
   "metadata": {},
   "source": [
    "Let's try a `+` between two **str**"
   ]
  },
  {
   "cell_type": "code",
   "execution_count": null,
   "metadata": {
    "scrolled": false
   },
   "outputs": [],
   "source": [
    "# execute me! \n",
    "'1' + '42'"
   ]
  },
  {
   "cell_type": "markdown",
   "metadata": {},
   "source": [
    "A `+` between 2 **strings** does not add them but **concatenate**s them."
   ]
  },
  {
   "cell_type": "code",
   "execution_count": null,
   "metadata": {
    "scrolled": false
   },
   "outputs": [],
   "source": [
    "# execute me! \n",
    "'I can ' + 'concatenate ' + 'strings in ' + 'Python!'"
   ]
  },
  {
   "cell_type": "markdown",
   "metadata": {},
   "source": [
    "***\n",
    "### Exercise\n",
    "\n",
    "Generate the following output: \n",
    "\n",
    "```'The second digit in the decimal part of Pi is 4 !'``` \n",
    "\n",
    "using `+`, `[` and `]`\n"
   ]
  },
  {
   "cell_type": "code",
   "execution_count": null,
   "metadata": {
    "scrolled": false
   },
   "outputs": [],
   "source": [
    "#your code here"
   ]
  },
  {
   "cell_type": "markdown",
   "metadata": {},
   "source": [
    "### Solution\n",
    "You can find a solution executing the following cell.\n",
    "There are a lot of different ways to obtains the same result in Python. If you have the same output as asked your answer is right too!"
   ]
  },
  {
   "cell_type": "code",
   "execution_count": null,
   "metadata": {
    "scrolled": false
   },
   "outputs": [],
   "source": [
    "%load 01SupportingFiles/Exercise1.py"
   ]
  },
  {
   "cell_type": "markdown",
   "metadata": {},
   "source": [
    "\n",
    "# Getting python to look for your birth year in PI\n",
    "\n",
    "The second step in or program is to get the birth year.\n",
    "\n",
    "For that we will have to use **functions**. \n",
    "\n",
    "A **function** is called with some parameters and returns some values. Python has a lot of built-in **function**s but you can create your own or use the ones defined by others.\n",
    "\n",
    "The parameters are passed after the name of the functions using parenthesis `function(parameter1, paremeter2)`.\n",
    "\n",
    "Let's use some real example of build-in **function**:\n",
    "* `bin`,`hex` and `oct` are **function** that returns the binary, hexadecimal and octal representation of an integer\n",
    "* `divmod` is a **function** that returns the quotient and remainder of the division of the 2 integers passed as parameters \n",
    "* `len` is a **function** that returns the number of elements in a list.\n",
    "* `min` is a **function** that returns the smallest of the parameters.\n",
    "* `max` is a **function** that returns the biggest of the parameters.\n",
    "\n",
    "Execute the following cells and see them in actions."
   ]
  },
  {
   "cell_type": "code",
   "execution_count": null,
   "metadata": {
    "scrolled": false
   },
   "outputs": [],
   "source": [
    "bin(42)"
   ]
  },
  {
   "cell_type": "code",
   "execution_count": null,
   "metadata": {
    "scrolled": false
   },
   "outputs": [],
   "source": [
    "hex(42)"
   ]
  },
  {
   "cell_type": "code",
   "execution_count": null,
   "metadata": {
    "scrolled": false
   },
   "outputs": [],
   "source": [
    "oct(42)"
   ]
  },
  {
   "cell_type": "code",
   "execution_count": null,
   "metadata": {
    "scrolled": false
   },
   "outputs": [],
   "source": [
    "divmod(356,42)"
   ]
  },
  {
   "cell_type": "code",
   "execution_count": null,
   "metadata": {
    "scrolled": false
   },
   "outputs": [],
   "source": [
    "len(PI)"
   ]
  },
  {
   "cell_type": "code",
   "execution_count": null,
   "metadata": {
    "scrolled": false
   },
   "outputs": [],
   "source": [
    "min(1,2,3,-42,5,6)"
   ]
  },
  {
   "cell_type": "code",
   "execution_count": null,
   "metadata": {
    "scrolled": false
   },
   "outputs": [],
   "source": [
    "max('codebar','is','great')"
   ]
  },
  {
   "cell_type": "markdown",
   "metadata": {},
   "source": [
    "One of the **function** that you will use a lot is `print`. It prints out the parameters."
   ]
  },
  {
   "cell_type": "code",
   "execution_count": null,
   "metadata": {
    "scrolled": false
   },
   "outputs": [],
   "source": [
    "# execute me and see all these prints\n",
    "print(1)\n",
    "print(1,2,3,4,5)\n",
    "print(1+2)\n",
    "print(\"codebar\",1+2,1/3)"
   ]
  },
  {
   "cell_type": "markdown",
   "metadata": {},
   "source": [
    "Some of the parameters of `print` have some default values so that you don't have to give them a value or even know they exist! \n",
    "\n",
    "* `sep` is a string that will separate the differents objects printed out. By default it's a single space.\n",
    "* `end` is a string that will be printed out at the end. By default it's a `\\n` which is a special character to indicate a new line.\n",
    "\n",
    "Here an example to change these default value:"
   ]
  },
  {
   "cell_type": "code",
   "execution_count": null,
   "metadata": {
    "scrolled": false
   },
   "outputs": [],
   "source": [
    "print(\"a string with space\", \" another one\", \"How do I know when they start and end?\")\n",
    "print(\"a string with spaces\", \" another one\", \"How do I know when they start and end?\", sep=\"_\")"
   ]
  },
  {
   "cell_type": "code",
   "execution_count": null,
   "metadata": {
    "scrolled": false
   },
   "outputs": [],
   "source": [
    "print(1,2,3,4,5,6,7,8,9,end=' ')\n",
    "print(10,11,12,13,14,15,16,17,18,19)"
   ]
  },
  {
   "cell_type": "markdown",
   "metadata": {},
   "source": [
    "In a later tutorial, you will see how to use functions defined by others and how to create your own.\n",
    "\n",
    "\n",
    "For our purpose of getting the birth year we will use the **function** `input`.\n",
    "\n",
    "`input` promts the user with the string passed as parameters and returns what the user has typed as a string. "
   ]
  },
  {
   "cell_type": "code",
   "execution_count": null,
   "metadata": {
    "scrolled": true
   },
   "outputs": [],
   "source": [
    "input(\"what's your age?: \")"
   ]
  },
  {
   "cell_type": "markdown",
   "metadata": {},
   "source": [
    "For our objective we will store the value typed by the user in the variable `birth_year`."
   ]
  },
  {
   "cell_type": "code",
   "execution_count": null,
   "metadata": {
    "scrolled": false
   },
   "outputs": [],
   "source": [
    "birth_year = input(\"What is your birth year?: \")"
   ]
  },
  {
   "cell_type": "markdown",
   "metadata": {},
   "source": [
    "***\n",
    "### Exercise\n",
    "\n",
    "Ask to the user for three words and print it out on the same line separating them with unicorns 🦄 and ending with a nice rainbow 🌈. \n",
    "\n",
    "```\n",
    "What is the first word? codebar\n",
    "What is the second word? is\n",
    "What is the third word? fantastic\n",
    "\n",
    "codebar🦄is🦄fantastic🌈\n",
    "```"
   ]
  },
  {
   "cell_type": "code",
   "execution_count": null,
   "metadata": {
    "scrolled": false
   },
   "outputs": [],
   "source": [
    "#your code here"
   ]
  },
  {
   "cell_type": "markdown",
   "metadata": {},
   "source": [
    "### Solution\n",
    "You can found a solution executing the following cell.\n",
    "There is a lot of different way to obtains the same result in Python. If you have the same output as asked your answer is right too!"
   ]
  },
  {
   "cell_type": "code",
   "execution_count": null,
   "metadata": {
    "scrolled": false
   },
   "outputs": [],
   "source": [
    "%load 01SupportingFiles/Exercise2.py"
   ]
  },
  {
   "cell_type": "markdown",
   "metadata": {},
   "source": [
    "\n",
    "# Searching for the first occurence\n",
    "\n",
    "Let's try first to find the first digit of the year birth in Pi.\n",
    "\n",
    "Both `PI`and `birth_year` are **string** so they are **list** too. We can access to the nth digit in it with `[n-1]`."
   ]
  },
  {
   "cell_type": "code",
   "execution_count": null,
   "metadata": {
    "scrolled": false
   },
   "outputs": [],
   "source": [
    "print(\"The first digit of birth_year is\",birth_year[0],\".\")\n",
    "print(\"The first digit of PI is\",PI[0],\".\")"
   ]
  },
  {
   "cell_type": "markdown",
   "metadata": {},
   "source": [
    "We need now to compare theses two characters. \n",
    "\n",
    "We will use the comparison **operator** equal `==` that will return `True` it the two values are equal and `False` otherwise."
   ]
  },
  {
   "cell_type": "code",
   "execution_count": null,
   "metadata": {
    "scrolled": false
   },
   "outputs": [],
   "source": [
    "birth_year[0] == PI[0]"
   ]
  },
  {
   "cell_type": "markdown",
   "metadata": {},
   "source": [
    "The comparisons **operator** returns a value of type **boolean**.\n",
    "\n",
    "A **boolean** is a basic type in Python and can only have two different values `True` or `False`. \n",
    "\n",
    "Some others comparisons **operators** are:\n",
    "\n",
    "**operator**|Meaning\n",
    "---:|---:\n",
    "`!=`|not equal\n",
    "`<`|strictly less than\n",
    "`<=`|less than or equal\n",
    "`>`|strictly greater than\n",
    "`>=`|greater than or equal\n",
    "`==`|equal\n"
   ]
  },
  {
   "cell_type": "markdown",
   "metadata": {},
   "source": [
    "Some of the most common operators on booleans are:"
   ]
  },
  {
   "cell_type": "markdown",
   "metadata": {},
   "source": [
    "#### `not`\n",
    "`not`is the negation operator\n",
    "\n",
    "`x`||`not x`\n",
    "---||---\n",
    "`True`||`False`\n",
    "`False`||`True`"
   ]
  },
  {
   "cell_type": "markdown",
   "metadata": {},
   "source": [
    "#### `and` \n",
    "`x`|`y`||`x and y`\n",
    "---|---||---\n",
    "`True`|`True`||`True`\n",
    "`False`|`True`||`False`\n",
    "`True`|`False`||`False`\n",
    "`False`|`False`||`False`"
   ]
  },
  {
   "cell_type": "markdown",
   "metadata": {},
   "source": [
    "#### `or` \n",
    "`x`|`y`||`x or y`\n",
    "---|---||---\n",
    "`True`|`True`||`True`\n",
    "`False`|`True`||`True`\n",
    "`True`|`False`||`True`\n",
    "`False`|`False`||`False`"
   ]
  },
  {
   "cell_type": "markdown",
   "metadata": {},
   "source": [
    "You should use parenthesis when writing complex conditions to explicitly set what you means. Let see it with some examples:"
   ]
  },
  {
   "cell_type": "code",
   "execution_count": null,
   "metadata": {
    "scrolled": false
   },
   "outputs": [],
   "source": [
    "#guess the result before executing this cell\n",
    "x = 10\n",
    "x < 0 and x > 10 or x == 10"
   ]
  },
  {
   "cell_type": "code",
   "execution_count": null,
   "metadata": {
    "scrolled": false
   },
   "outputs": [],
   "source": [
    "#guess the result before executing this cell\n",
    "x = 10\n",
    "(x < 0) and (x > 10 or x == 10)"
   ]
  },
  {
   "cell_type": "markdown",
   "metadata": {},
   "source": [
    "**boolean** are used usually within a `if` statement. \n",
    "\n",
    "```python\n",
    "if x > 5:\n",
    "    print(x,\"is greater than 5!\")\n",
    "```\n",
    "means if `x>5` then `print(x,\"is greater than 5!\"`\n",
    "\n",
    "\n",
    "There are 2 important thing to take into account:\n",
    "* the `:` indicates that the condition is over and that afterward it is the code that will be executed if the condition is `True`.\n",
    "* the second line has a different indentation. It is recommended to use 4 spaces. As long as you have lines with the same identation it will be considered as belonging to the same **block** and all the lines in the block will be executed if the condition is true"
   ]
  },
  {
   "cell_type": "code",
   "execution_count": null,
   "metadata": {
    "scrolled": false
   },
   "outputs": [],
   "source": [
    "x = 7\n",
    "if x > 5:\n",
    "    print(x, \"is greater than 5!\")\n",
    "    print(\"still in the block\")\n",
    "print(\"not in the block anymore\")"
   ]
  },
  {
   "cell_type": "code",
   "execution_count": null,
   "metadata": {
    "scrolled": false
   },
   "outputs": [],
   "source": [
    "x = 3\n",
    "if x > 5:\n",
    "    print(x, \"is greater than 5!\")\n",
    "    print(\"still in the block\")\n",
    "print(\"not in the block anymore\")"
   ]
  },
  {
   "cell_type": "markdown",
   "metadata": {},
   "source": [
    "The complete form of the `if` statement is \n",
    "```python\n",
    "if condition:\n",
    "    #block executed if True\n",
    "elif second_condition:\n",
    "    #block executed if the first condition is False and the second_condition is True\n",
    "elif other_condition:\n",
    "    #block executed if all the previous conditions were False \n",
    "    #and the other_condition is True\n",
    "else :\n",
    "    #block executed if all the previous conditions were False \n",
    "```"
   ]
  },
  {
   "cell_type": "code",
   "execution_count": null,
   "metadata": {
    "scrolled": false
   },
   "outputs": [],
   "source": [
    "# try this code with different values for x and see what happens\n",
    "x = 42\n",
    "\n",
    "if x < 0:\n",
    "    print(x, \"is negative.\")\n",
    "elif x > 100:\n",
    "    print(x, \"is greater than 100.\")\n",
    "elif x%2 == 0: # % is the operator modulo. It gives the remainer of the integer division.\n",
    "    print(x,\"is even, positive and smaller than 100.\")\n",
    "    print(x * '🌈')\n",
    "else:\n",
    "    print(x,\"is odd, positive and smaller than 100.\") "
   ]
  },
  {
   "cell_type": "markdown",
   "metadata": {},
   "source": [
    "It is allowed to write an `if` in one line when there is only one instructions to execute and no else or elif."
   ]
  },
  {
   "cell_type": "code",
   "execution_count": null,
   "metadata": {
    "scrolled": false
   },
   "outputs": [],
   "source": [
    "x = 42\n",
    "if x%2==0: print(x,\"is even.\")"
   ]
  },
  {
   "cell_type": "markdown",
   "metadata": {},
   "source": [
    "In python `elif` can be read as \"else if\" but not as `else if`"
   ]
  },
  {
   "cell_type": "code",
   "execution_count": null,
   "metadata": {
    "scrolled": false
   },
   "outputs": [],
   "source": [
    "# elif is not else if\n",
    "x = 42\n",
    "\n",
    "if x < 0:\n",
    "    print(x,\"is negative.\")\n",
    "else if x > 100:\n",
    "    print(x,\"is greater than 100.\")\n",
    "else:\n",
    "     print(x,\"is odd, positive and smaller than 100.\") "
   ]
  },
  {
   "cell_type": "markdown",
   "metadata": {},
   "source": [
    "Let's go back to our problem and compare our first digits."
   ]
  },
  {
   "cell_type": "code",
   "execution_count": null,
   "metadata": {
    "scrolled": false
   },
   "outputs": [],
   "source": [
    "if birth_year[0] == PI[0]:\n",
    "    print(\"Found it! It's 0.\")\n",
    "else: \n",
    "    print(\"It's not 0.\")"
   ]
  },
  {
   "cell_type": "markdown",
   "metadata": {},
   "source": [
    "The first digit of the `birth_year` is not the first digit of `PI` so we have to look further."
   ]
  },
  {
   "cell_type": "code",
   "execution_count": null,
   "metadata": {
    "scrolled": false
   },
   "outputs": [],
   "source": [
    "if birth_year[0] == PI[1]:\n",
    "    print(\"Found it! It's 1.\")\n",
    "else: \n",
    "    print(\"It's not 1.\")"
   ]
  },
  {
   "cell_type": "markdown",
   "metadata": {},
   "source": [
    "We programmer are laxy, so we won't copy paste the code any further and change by hand the numbers. We will use a variable. Let's call it `i`."
   ]
  },
  {
   "cell_type": "code",
   "execution_count": null,
   "metadata": {
    "scrolled": false
   },
   "outputs": [],
   "source": [
    "i = 0"
   ]
  },
  {
   "cell_type": "code",
   "execution_count": null,
   "metadata": {
    "scrolled": false
   },
   "outputs": [],
   "source": [
    "if birth_year[0] == PI[i]:\n",
    "    print(\"Found it! It's\",i,\".\")\n",
    "else: \n",
    "    print(\"It's not\",i,\".\")"
   ]
  },
  {
   "cell_type": "code",
   "execution_count": null,
   "metadata": {
    "scrolled": false
   },
   "outputs": [],
   "source": [
    "#execute me and the previous cell if you haven't found the correct i\n",
    "i = i + 1"
   ]
  },
  {
   "cell_type": "markdown",
   "metadata": {},
   "source": [
    "So we have:\n",
    "* executed the first cell to initialize `i`, \n",
    "* then we have checked the condition in the second cell, \n",
    "* and if the result was no reached, we increment `i` in the third cell and go back to the second cell, \n",
    "* till we found the correct i.\n",
    "\n",
    "In programming this is called a **loop** and more precicesly a **while** loop.\n",
    "\n",
    "```python\n",
    "while condition:\n",
    "    #block to be executed while the condition is not True\n",
    "```\n",
    "\n",
    "This will executed the block of code till the condition became `False`. \n",
    "\n",
    "Let' have an example:"
   ]
  },
  {
   "cell_type": "code",
   "execution_count": null,
   "metadata": {
    "scrolled": false
   },
   "outputs": [],
   "source": [
    "i = 0\n",
    "\n",
    "while i < 10:\n",
    "    print(i,end=',')\n",
    "    i = i + 1"
   ]
  },
  {
   "cell_type": "markdown",
   "metadata": {},
   "source": [
    "Now with our problem:"
   ]
  },
  {
   "cell_type": "code",
   "execution_count": null,
   "metadata": {
    "scrolled": false
   },
   "outputs": [],
   "source": [
    "i = 0\n",
    "\n",
    "while birth_year[0] != PI[i] :\n",
    "    print(\"It's not\", i, \".\")\n",
    "    i += 1 # it's a shorter version of i = i + 1\n",
    "\n",
    "print(\"Found it! It's\", i, \".\")"
   ]
  },
  {
   "cell_type": "markdown",
   "metadata": {},
   "source": [
    "Before going to the next step in our program let's fix something unpleaseant. \n",
    "\n",
    "There is always a space between the number and the point at the end of the phrase because we have use `print` that by default use a space as separator. We could use nothing as a separator and change our strings in the `print` to put some space where we want like this:"
   ]
  },
  {
   "cell_type": "code",
   "execution_count": null,
   "metadata": {
    "scrolled": false
   },
   "outputs": [],
   "source": [
    "print(\"It's not \", i, \".\", sep='')"
   ]
  },
  {
   "cell_type": "markdown",
   "metadata": {},
   "source": [
    "but it hasn't made our print statment really clearer.\n",
    "\n",
    "A better way it to use \"formatted string literals\" or `f-strings`."
   ]
  },
  {
   "cell_type": "code",
   "execution_count": null,
   "metadata": {
    "scrolled": false
   },
   "outputs": [],
   "source": [
    "f\"It's not {i}.\""
   ]
  },
  {
   "cell_type": "markdown",
   "metadata": {},
   "source": [
    "The curly brackets ( `{` and `}` ) are forming  a placeholder and will be substitutes by the value of what is inside it.\n",
    "\n",
    "You can even make some operations in the curly brackets."
   ]
  },
  {
   "cell_type": "code",
   "execution_count": null,
   "metadata": {
    "scrolled": false
   },
   "outputs": [],
   "source": [
    "f\"The double of {i} is {i*2}.\""
   ]
  },
  {
   "cell_type": "markdown",
   "metadata": {},
   "source": [
    "Let's applicate to our case:"
   ]
  },
  {
   "cell_type": "code",
   "execution_count": null,
   "metadata": {
    "scrolled": false
   },
   "outputs": [],
   "source": [
    "#change the following code to use a f-string in the 2 print calls\n",
    "i = 0\n",
    "\n",
    "while birth_year[0] != PI[i] :\n",
    "    print(\"It's not\", i, \".\")\n",
    "    i += 1 # it's a shorter version of i = i + 1\n",
    "\n",
    "print(\"Found it! It's\", i, \".\")"
   ]
  },
  {
   "cell_type": "code",
   "execution_count": null,
   "metadata": {
    "scrolled": false
   },
   "outputs": [],
   "source": [
    "#need a hint? load a solution\n",
    "%load 01SupportingFiles/whilerefactored.py"
   ]
  },
  {
   "cell_type": "markdown",
   "metadata": {},
   "source": [
    "🙌 🎉 You have refactored your code! 🦄 🌈\n",
    "\n",
    "Code refactoring is when you rewrite part of your code without changing it's functionality to make it better, cleaner, quicker etc . It's a classic best practices in programming. \n",
    "\n",
    "If your are interested in reading more about refactoring check out this article in wikipedia: https://en.wikipedia.org/wiki/Code_refactoring "
   ]
  },
  {
   "cell_type": "markdown",
   "metadata": {},
   "source": [
    "`f-string` are really powerful and here are some more complex usages before going on to the next step"
   ]
  },
  {
   "cell_type": "markdown",
   "metadata": {},
   "source": [
    "With `f-string` the parameters are automatically transform into strings and you can even give some instruction in the placeholder on how to transform the parameter to a string. Here are some examples."
   ]
  },
  {
   "cell_type": "code",
   "execution_count": null,
   "metadata": {
    "scrolled": false
   },
   "outputs": [],
   "source": [
    "print(f\"fourtytwo is {42:b} in binary\")\n",
    "print(f\"fourtytwo is {42:f} in float\")\n",
    "print(f\"a third is {1.0/3:f} with fix point notation\")\n",
    "print(f\"a third is {1.0/3:e} with exponent notation\")\n",
    "print(f\"a third is {1.0/3:.3f} with fix point number with a precision of 3\")\n",
    "print(f\"a million third is {1000000.0/3:018.3f} with fix point number with a precision of \"\n",
    "      \"3 and a width of 18 with a filling with 0\") "
   ]
  },
  {
   "cell_type": "markdown",
   "metadata": {},
   "source": [
    "The format used is called format specification mini language is documented at\n",
    "https://docs.python.org/3/library/string.html#formatspec ."
   ]
  },
  {
   "cell_type": "markdown",
   "metadata": {},
   "source": [
    "You can use **fonction** too in the placeholders."
   ]
  },
  {
   "cell_type": "code",
   "execution_count": null,
   "metadata": {},
   "outputs": [],
   "source": [
    "text='shout'\n",
    "f\"Please don't {text.upper()}!\""
   ]
  },
  {
   "cell_type": "markdown",
   "metadata": {},
   "source": [
    "# and now the hundreds, tens ...\n",
    "\n",
    "We have found a way to find the first digit of Pi that is equal to the thousand of our birth year, but we need to find all the birth year not just the thousand.\n",
    "\n",
    "Let's change the condition to take into account the hundreds"
   ]
  },
  {
   "cell_type": "code",
   "execution_count": null,
   "metadata": {
    "scrolled": false
   },
   "outputs": [],
   "source": [
    "i = 0\n",
    "\n",
    "while ( birth_year[0] != PI[i] or\n",
    "        birth_year[1] != PI[i+1] ) :\n",
    "    print(f\"It's not {i}.\")\n",
    "    i += 1 # it's a shorter version of i = i + 1\n",
    "\n",
    "print(f\"Found it! It's {i}\")"
   ]
  },
  {
   "cell_type": "markdown",
   "metadata": {},
   "source": [
    "Change the condition to add the tens and units"
   ]
  },
  {
   "cell_type": "code",
   "execution_count": null,
   "metadata": {
    "scrolled": false
   },
   "outputs": [],
   "source": [
    "#your turn\n",
    "i = 0\n",
    "\n",
    "while ( birth_year[0] != PI[i] or\n",
    "        birth_year[1] != PI[i+1] ) :\n",
    "    i += 1 # it's a shorter version of i = i + 1\n",
    "\n",
    "print(f\"Found it! It's {i}\")"
   ]
  },
  {
   "cell_type": "code",
   "execution_count": 23,
   "metadata": {
    "scrolled": false
   },
   "outputs": [],
   "source": [
    "#need a hint? load a solution\n",
    "%load 01SupportingFiles/whileloop.py"
   ]
  },
  {
   "cell_type": "markdown",
   "metadata": {},
   "source": [
    "The solution we have obtained is working fine but what if I told you that you can easily extract a string from another? \n",
    "\n",
    "To obtain a new list with elements of existing list you can use a **slice**. It's easier to understand with some examples:"
   ]
  },
  {
   "cell_type": "code",
   "execution_count": null,
   "metadata": {
    "scrolled": false
   },
   "outputs": [],
   "source": [
    "# our list is a string with numbers \n",
    "the_numbers = \"0123456789\"\n",
    "print(the_numbers)"
   ]
  },
  {
   "cell_type": "code",
   "execution_count": null,
   "metadata": {
    "scrolled": false
   },
   "outputs": [],
   "source": [
    "#from the 3rd to the six element (list index starts at 0 in Python)\n",
    "the_numbers[2:6]"
   ]
  },
  {
   "cell_type": "code",
   "execution_count": null,
   "metadata": {
    "scrolled": false
   },
   "outputs": [],
   "source": [
    "#from the index 4 till the end \n",
    "the_numbers[4:]"
   ]
  },
  {
   "cell_type": "code",
   "execution_count": null,
   "metadata": {
    "scrolled": false
   },
   "outputs": [],
   "source": [
    "#from the start till the index 6 \n",
    "the_numbers[:7]"
   ]
  },
  {
   "cell_type": "code",
   "execution_count": null,
   "metadata": {
    "scrolled": false
   },
   "outputs": [],
   "source": [
    "#from the start till before last\n",
    "the_numbers[:-1]"
   ]
  },
  {
   "cell_type": "code",
   "execution_count": null,
   "metadata": {
    "scrolled": false
   },
   "outputs": [],
   "source": [
    "#from the start until before-before-before last\n",
    "the_numbers[:-3]"
   ]
  },
  {
   "cell_type": "code",
   "execution_count": null,
   "metadata": {
    "scrolled": false
   },
   "outputs": [],
   "source": [
    "#from the start till the end using a step of 2\n",
    "the_numbers[::2]"
   ]
  },
  {
   "cell_type": "code",
   "execution_count": null,
   "metadata": {
    "scrolled": false
   },
   "outputs": [],
   "source": [
    "#from the index 1 to index 6 with a step of 3\n",
    "the_numbers[1:7:3]"
   ]
  },
  {
   "cell_type": "code",
   "execution_count": null,
   "metadata": {
    "scrolled": false
   },
   "outputs": [],
   "source": [
    "#from the start until the end with a step of -1\n",
    "the_numbers[::-1]"
   ]
  },
  {
   "cell_type": "markdown",
   "metadata": {},
   "source": [
    "Now let's refactor our code using **slice**."
   ]
  },
  {
   "cell_type": "code",
   "execution_count": null,
   "metadata": {
    "scrolled": false
   },
   "outputs": [],
   "source": [
    "# write the condition using a slice \n",
    "i = 0\n",
    "\n",
    "while  new_condition_with_slice :\n",
    "    i += 1 \n",
    "\n",
    "print(f\"Found it! It's {i}\")"
   ]
  },
  {
   "cell_type": "code",
   "execution_count": null,
   "metadata": {
    "scrolled": false
   },
   "outputs": [],
   "source": [
    "#need a hint? load a solution\n",
    "%load 01SupportingFiles/whileloopslice.py"
   ]
  },
  {
   "cell_type": "markdown",
   "metadata": {},
   "source": [
    "# Let's put it all together\n"
   ]
  },
  {
   "cell_type": "code",
   "execution_count": null,
   "metadata": {
    "scrolled": false
   },
   "outputs": [],
   "source": [
    "# put all the code together\n",
    "# getting PI\n",
    "# asking for the birth year\n",
    "# while loop to found the birth year in PI"
   ]
  },
  {
   "cell_type": "code",
   "execution_count": null,
   "metadata": {
    "scrolled": false
   },
   "outputs": [],
   "source": [
    "#need a hint? load a solution\n",
    "%load 01SupportingFiles/alltogether.py"
   ]
  },
  {
   "cell_type": "markdown",
   "metadata": {},
   "source": [
    "Are we done? Can we publish it to github and proudly present our first program in python to the world?\n",
    "\n",
    "NO! Because your program has not be tested and a program that has not been tested is not finished. Programming code is not just writing code it is testing it too.\n",
    "\n",
    "There is only one thing that can change in our code. it's the birth year.\n",
    "Reexecute your code with some other birth years and try to break your code."
   ]
  },
  {
   "cell_type": "markdown",
   "metadata": {},
   "source": [
    "You should have found something unexpected. If you haven't, load some hints with the following cell"
   ]
  },
  {
   "cell_type": "code",
   "execution_count": null,
   "metadata": {
    "scrolled": false
   },
   "outputs": [],
   "source": [
    "%load 01SupportingFiles/testcases"
   ]
  },
  {
   "cell_type": "markdown",
   "metadata": {},
   "source": [
    "🙌 🎉 You have found your first bug! 🦄 🌈\n",
    "\n",
    "A bug is something in your code that may produce something bad under some circumstances. Historically, in the 40's and 50's, they were real bugs that provoke shortcircuit in the cabling of the computers. Now they are mainly due to some errors, imprecisions or inprudence in the code that under some conditions will make the code behave unexpectedly."
   ]
  },
  {
   "cell_type": "markdown",
   "metadata": {},
   "source": [
    "Your program hasn't given any output and in fact it is still running. On the left side the square bracket contains a `*` indicating that the program is still running. \n",
    "\n",
    "Stop it with the square black button or with the menu Kernel/Interupt."
   ]
  },
  {
   "cell_type": "markdown",
   "metadata": {},
   "source": [
    "To solve this bug, you should check that the user has introduced a number that is valid for our processing. A positive number with four characters is expected.\n",
    "\n",
    "`str.isdigit` is a function that return `True` when the string is a positive number\n",
    "\n",
    "for example:"
   ]
  },
  {
   "cell_type": "code",
   "execution_count": null,
   "metadata": {
    "scrolled": false
   },
   "outputs": [],
   "source": [
    "'42'.isdigit()"
   ]
  },
  {
   "cell_type": "code",
   "execution_count": null,
   "metadata": {
    "scrolled": false
   },
   "outputs": [],
   "source": [
    "'unicorn'.isdigit()"
   ]
  },
  {
   "cell_type": "code",
   "execution_count": null,
   "metadata": {
    "scrolled": false
   },
   "outputs": [],
   "source": [
    "'-4'.isdigit()"
   ]
  },
  {
   "cell_type": "code",
   "execution_count": null,
   "metadata": {
    "scrolled": false
   },
   "outputs": [],
   "source": [
    "'3.14'.isdigit()"
   ]
  },
  {
   "cell_type": "markdown",
   "metadata": {},
   "source": [
    "Now you can change the code that ask for the birth year. If the first input is not a number and with 4 characters, ask another time with a text more explicit until you obtain a valid `birth_year`"
   ]
  },
  {
   "cell_type": "code",
   "execution_count": null,
   "metadata": {
    "scrolled": false
   },
   "outputs": [],
   "source": [
    "#add a check on the user input\n",
    "birth_year = input(\"What is your birth year?: \")"
   ]
  },
  {
   "cell_type": "code",
   "execution_count": null,
   "metadata": {
    "scrolled": false
   },
   "outputs": [],
   "source": [
    "#need a hint? load a solution\n",
    "%load 01SupportingFiles/checkbirthyear.py"
   ]
  },
  {
   "cell_type": "markdown",
   "metadata": {},
   "source": [
    "When the `birth_year` was not correct the program was running and would never has stopped. It has entered an infinite loop and it's not good.\n",
    "In the `while` **loop** the condition was never `False` and the program stays forever in this loop and never ends. The only solution at this time is to kill the program! \n",
    "\n",
    "Let's see an infinite loop in action:"
   ]
  },
  {
   "cell_type": "code",
   "execution_count": null,
   "metadata": {
    "scrolled": false
   },
   "outputs": [],
   "source": [
    "while True:\n",
    "    print(\"Love is infinite!🌈\")"
   ]
  },
  {
   "cell_type": "markdown",
   "metadata": {},
   "source": [
    "The previous code will run forever. On the left side the square bracket contains a `*` indicating that the program is still running. To stop it, use the square black button or use the menu Kernel/Interupt.\n",
    "\n",
    "When using a **while loop**, we have to make sure that the condition will be False at some point.\n",
    "In our case we may not find the birth year in the digits of Pi we have, so we have to stop when we have tested all the digits of Pi we have. \n",
    "\n",
    "Once we have gone out of the **loop**:\n",
    "- or we have arrived at the end of our `PI` \n",
    "- or we have found our digit in `PI`!\n",
    "\n",
    "Let's correct our `while` **loop** and add an if at the end to say us if the search was successfull. \n",
    "We can use the birth year of Sengaku, a Japanese Buddhist monk born in 1203 because it is not present in our `PI`."
   ]
  },
  {
   "cell_type": "code",
   "execution_count": null,
   "metadata": {
    "scrolled": false
   },
   "outputs": [],
   "source": [
    "# change the while condition to exit when the search has been done in PI\n",
    "# and add anm if at the end to print the result or that the birth year has nor been found\n",
    "\n",
    "birth_year='1203'\n",
    "\n",
    "i = 0\n",
    "\n",
    "while  birth_year != PI[i:i+4]:\n",
    "    i += 1 \n",
    "    \n",
    "print(f\"Found it! It's {i}\")"
   ]
  },
  {
   "cell_type": "code",
   "execution_count": null,
   "metadata": {
    "scrolled": false
   },
   "outputs": [],
   "source": [
    "#need a hint? load a solution\n",
    "%load 01SupportingFiles/whilejustinPI.py"
   ]
  },
  {
   "cell_type": "markdown",
   "metadata": {},
   "source": [
    "Let's put it all together one last time"
   ]
  },
  {
   "cell_type": "code",
   "execution_count": null,
   "metadata": {
    "scrolled": false
   },
   "outputs": [],
   "source": [
    "# put all the code together\n",
    "# getting PI\n",
    "# asking for the birth year and check it\n",
    "# while loop to found the birth year in PI"
   ]
  },
  {
   "cell_type": "code",
   "execution_count": null,
   "metadata": {
    "scrolled": false
   },
   "outputs": [],
   "source": [
    "#need a hint? load a solution\n",
    "%load 01SupportingFiles/alltogether-tested.py"
   ]
  },
  {
   "cell_type": "markdown",
   "metadata": {},
   "source": [
    "**🙌 🎉 You have successfully made, tested and debugged your first program in python! 🦄 🌈**\n",
    "\n",
    "Along the way you have learned:\n",
    "* variable\n",
    "* loops\n",
    "* string, integers, float and boolean\n",
    "* `print` function\n",
    "* `f-string`\n",
    "* `if` statement\n",
    "* jupyter notebook\n",
    "\n",
    "**Don't forget to download your notebook to your laptop!**\n"
   ]
  },
  {
   "cell_type": "markdown",
   "metadata": {},
   "source": [
    "***\n",
    "\n",
    "**You give use your feedback on this tutorial [here](https://davidricordel.typeform.com/to/Aw6n8J). **"
   ]
  },
  {
   "cell_type": "markdown",
   "metadata": {},
   "source": [
    "***\n",
    "## Next steps\n",
    "\n",
    "\n",
    "[TODO]\n",
    "* You can go on to the following tutorial\n",
    "* push your code to github and be a real coder!\n",
    "* install python on your laptop"
   ]
  },
  {
   "cell_type": "code",
   "execution_count": null,
   "metadata": {},
   "outputs": [],
   "source": []
  }
 ],
 "metadata": {
  "kernelspec": {
   "display_name": "Python 3",
   "language": "python",
   "name": "python3"
  },
  "language_info": {
   "codemirror_mode": {
    "name": "ipython",
    "version": 3
   },
   "file_extension": ".py",
   "mimetype": "text/x-python",
   "name": "python",
   "nbconvert_exporter": "python",
   "pygments_lexer": "ipython3",
   "version": "3.6.4"
  }
 },
 "nbformat": 4,
 "nbformat_minor": 2
}
